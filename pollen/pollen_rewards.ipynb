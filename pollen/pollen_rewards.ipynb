{
 "cells": [
  {
   "cell_type": "code",
   "execution_count": 1,
   "metadata": {},
   "outputs": [],
   "source": [
    "import requests\n",
    "import time\n",
    "import pandas as pd\n",
    "import os\n",
    "from datetime import datetime\n"
   ]
  },
  {
   "cell_type": "code",
   "execution_count": 3,
   "metadata": {},
   "outputs": [],
   "source": [
    "def request_api(url, **kwargs):\n",
    "    payload={}\n",
    "    headers = {\n",
    "        \"Content-Type\": \"application/json\",\n",
    "        \"X-API-KEY\": \"...\" # add your api key here\n",
    "    }   \n",
    "    return requests.request(\"GET\", url, headers=headers, data=payload)\n",
    "\n",
    "\n",
    "def get_daily_stats(dateday):\n",
    "    #works nly after 02-23-2023 when it went live\n",
    "    url=\"https://api.pollenmobile.io/explorer/daily-stats-day?date={dateday}\".format(\n",
    "        dateday=dateday\n",
    "    )\n",
    "\n",
    "    cnt=0\n",
    "    check=False\n",
    "    result = {}\n",
    "    response = request_api(url)\n",
    "    while (cnt<10) & (check==False):\n",
    "        if response.status_code==200:\n",
    "            result = response.json()\n",
    "    \n",
    "    return pd.DataFrame(result)\n",
    "\n",
    "def get_all_stats():\n",
    "    url=\"https://api.pollenmobile.io/explorer/daily-stats-all\"\n",
    "\n",
    "    cnt=0\n",
    "    check=False\n",
    "    result = {}\n",
    "    response = request_api(url)\n",
    "    while (cnt<10) & (check==False):\n",
    "        if response.status_code==200:\n",
    "            result = response.json()\n",
    "    \n",
    "    return pd.DataFrame(result)    \n",
    "\n"
   ]
  },
  {
   "cell_type": "code",
   "execution_count": 2,
   "metadata": {},
   "outputs": [],
   "source": [
    "#adjust start and end date to get dataframe with network stats\n",
    "start_date = '2022-02 -10'\n",
    "end_date = '2022-12-01'\n",
    "\n",
    "lst_failed = []\n",
    "dct_out = {\n",
    "    'dateday':[],\n",
    "    'flower_share':[],\n",
    "    'honeybee_share':[],\n",
    "    'bumblebee_share':[],\n",
    "    'PCNperPIC':[],\n",
    "    'PICtotal':[],\n",
    "    'PCNtotal':[],\n",
    "    'honeybee_count':[],\n",
    "    'bumblebee_count':[],\n",
    "    'flower_count':[]\n",
    "}\n",
    "\n",
    "for dateday in pd.date_range(start=start_date,end=end_date):\n",
    "    url = \"https://api.pollenmobile.io/explorer/daily-stats-day?date={dateday}\".format(\n",
    "        dateday=datetime.strftime(dateday,'%Y-%m-%d')\n",
    "    )\n",
    "\n",
    "\n",
    "    response = request_api(url)\n",
    "    json_out = response.json()\n",
    "    if 'message' in json_out.keys():\n",
    "        print('Failed run for {dateday}'.format(dateday=dateday))\n",
    "        lst_failed.append(dateday)\n",
    "        time.sleep(3)\n",
    "    else:\n",
    "        dct_out['dateday'].append(dateday)\n",
    "        dct_out['flower_share'].append(float(json_out['flower_share']))\n",
    "        if json_out['honeybee_share'] is None:\n",
    "            dct_out['honeybee_share'].append(0)\n",
    "        else:\n",
    "            dct_out['honeybee_share'].append(float(json_out['honeybee_share']))\n",
    "        if json_out['bumblebee_share'] is None:\n",
    "            dct_out['bumblebee_share'].append(0)\n",
    "        else:\n",
    "            dct_out['bumblebee_share'].append(float(json_out['bumblebee_share']))\n",
    "            \n",
    "        dct_out['PCNperPIC'].append(float(json_out['PCNperPIC']))\n",
    "        dct_out['PICtotal'].append(float(json_out['PICtotal']))\n",
    "        dct_out['PCNtotal'].append(float(json_out['dailyPCN']))\n",
    "        if json_out['honeybee_count'] is None:\n",
    "            dct_out['honeybee_count'].append(0)\n",
    "        else:\n",
    "            dct_out['honeybee_count'].append(float(json_out['honeybee_count']))\n",
    "        if json_out['bumblebee_count'] is None:\n",
    "            dct_out['bumblebee_count'].append(0)\n",
    "        else:\n",
    "            dct_out['bumblebee_count'].append(float(json_out['bumblebee_count']))\n",
    "        dct_out['flower_count'].append(float(json_out['flower_count']))\n",
    "        time.sleep(2)\n",
    "\n",
    "df_out=pd.DataFrame(dct_out)\n"
   ]
  },
  {
   "cell_type": "code",
   "execution_count": 50,
   "metadata": {},
   "outputs": [],
   "source": [
    "df_out.to_csv('pollen_data_api.csv')"
   ]
  },
  {
   "cell_type": "code",
   "execution_count": null,
   "metadata": {},
   "outputs": [],
   "source": []
  },
  {
   "cell_type": "code",
   "execution_count": null,
   "metadata": {},
   "outputs": [],
   "source": []
  },
  {
   "cell_type": "code",
   "execution_count": null,
   "metadata": {},
   "outputs": [],
   "source": []
  }
 ],
 "metadata": {
  "kernelspec": {
   "display_name": "Python 3.8.12 ('python38_playground')",
   "language": "python",
   "name": "python3"
  },
  "language_info": {
   "codemirror_mode": {
    "name": "ipython",
    "version": 3
   },
   "file_extension": ".py",
   "mimetype": "text/x-python",
   "name": "python",
   "nbconvert_exporter": "python",
   "pygments_lexer": "ipython3",
   "version": "3.8.16"
  },
  "orig_nbformat": 4,
  "vscode": {
   "interpreter": {
    "hash": "4f6a71d4a8d870d006c0d635088bf6f3b5cd17f3b28c9a7af11ba0d5c8d1e76f"
   }
  }
 },
 "nbformat": 4,
 "nbformat_minor": 2
}
